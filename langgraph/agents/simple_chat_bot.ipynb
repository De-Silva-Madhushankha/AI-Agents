{
 "cells": [
  {
   "cell_type": "code",
   "execution_count": null,
   "id": "826c18c0",
   "metadata": {},
   "outputs": [],
   "source": [
    "import os\n",
    "from typing import TypedDict, List, Union\n",
    "from langchain_core.messages import HumanMessage, AIMessage\n",
    "from langchain_openai import ChatOpenAI\n",
    "from langgraph.graph import StateGraph, START, END\n",
    "from dotenv import load_dotenv\n",
    "\n",
    "load_dotenv()"
   ]
  },
  {
   "cell_type": "code",
   "execution_count": null,
   "id": "934ee6f1",
   "metadata": {},
   "outputs": [],
   "source": [
    "\n",
    "class AgentState(TypedDict):\n",
    "    messages: List[Union[HumanMessage, AIMessage]]\n",
    "\n",
    "llm = ChatOpenAI(model=\"gpt-4o\")\n",
    "\n",
    "def process(state: AgentState) -> AgentState:\n",
    "    \"\"\"This node will solve the request you input\"\"\"\n",
    "    response = llm.invoke(state[\"messages\"])\n",
    "\n",
    "    state[\"messages\"].append(AIMessage(content=response.content)) \n",
    "    print(f\"AI: {response.content}\\n\")\n",
    "    print(\"CURRENT STATE: \", state[\"messages\"])\n",
    "\n",
    "    return state"
   ]
  },
  {
   "cell_type": "code",
   "execution_count": null,
   "id": "dfac2632",
   "metadata": {},
   "outputs": [],
   "source": [
    "\n",
    "graph = StateGraph(AgentState)\n",
    "graph.add_node(\"process\", process)\n",
    "graph.add_edge(START, \"process\")\n",
    "graph.add_edge(\"process\", END) \n",
    "agent = graph.compile()"
   ]
  },
  {
   "cell_type": "code",
   "execution_count": null,
   "id": "156acebb",
   "metadata": {},
   "outputs": [],
   "source": [
    "conversation_history = []\n",
    "\n",
    "user_input = input(\"Enter: \")\n",
    "while user_input != \"exit\":\n",
    "    conversation_history.append(HumanMessage(content=user_input))\n",
    "    result = agent.invoke({\"messages\": conversation_history})\n",
    "    conversation_history = result[\"messages\"]\n",
    "    user_input = input(\"Enter: \")\n",
    "\n",
    "\n",
    "with open(\"logging.txt\", \"w\") as file:\n",
    "    file.write(\"Your Conversation Log:\\n\")\n",
    "    \n",
    "    for message in conversation_history:\n",
    "        if isinstance(message, HumanMessage):\n",
    "            file.write(f\"You: {message.content}\\n\")\n",
    "        elif isinstance(message, AIMessage):\n",
    "            file.write(f\"AI: {message.content}\\n\\n\")\n",
    "    file.write(\"End of Conversation\")\n",
    "\n",
    "print(\"Conversation saved to logging.txt\")"
   ]
  }
 ],
 "metadata": {
  "kernelspec": {
   "display_name": "venv",
   "language": "python",
   "name": "python3"
  },
  "language_info": {
   "codemirror_mode": {
    "name": "ipython",
    "version": 3
   },
   "file_extension": ".py",
   "mimetype": "text/x-python",
   "name": "python",
   "nbconvert_exporter": "python",
   "pygments_lexer": "ipython3",
   "version": "3.13.2"
  }
 },
 "nbformat": 4,
 "nbformat_minor": 5
}
