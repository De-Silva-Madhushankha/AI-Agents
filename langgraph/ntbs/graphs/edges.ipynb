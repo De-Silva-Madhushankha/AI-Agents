{
 "cells": [
  {
   "cell_type": "code",
   "execution_count": 5,
   "id": "b97a838a",
   "metadata": {},
   "outputs": [],
   "source": [
    "from langgraph.graph import StateGraph\n",
    "from typing import TypedDict"
   ]
  },
  {
   "cell_type": "code",
   "execution_count": null,
   "id": "0b39c28d",
   "metadata": {},
   "outputs": [],
   "source": [
    "class AgentState(TypedDict):\n",
    "    name: str\n",
    "    age: int\n",
    "    skills: list[str]\n",
    "    result: str\n",
    "\n",
    "def first_node(state: AgentState) -> str:\n",
    "    \"\"\" this node greets the user \"\"\"\n",
    "    state[\"result\"] = f\"{state['name']} welcome to the system!\"\n",
    "    return state\n",
    "\n",
    "def second_node(state: AgentState) -> str:\n",
    "    \"\"\" this node processes the user's age \"\"\"\n",
    "    state[\"result\"] += f\" You are {state['age']} years old.\"\n",
    "    return state\n",
    "def third_node(state: AgentState) -> str:\n",
    "    \"\"\" this node processes the user's skills \"\"\"\n",
    "    state[\"result\"] += f\" Your skills are: {', '.join(state['skills'])}.\"\n",
    "    return state\n"
   ]
  },
  {
   "cell_type": "code",
   "execution_count": 7,
   "id": "dc4fd378",
   "metadata": {},
   "outputs": [],
   "source": [
    "graph = StateGraph(AgentState)\n",
    "\n",
    "graph.add_node(\"first\", first_node)\n",
    "graph.add_node(\"second\", second_node)\n",
    "graph.add_node(\"third\", third_node)\n",
    "\n",
    "graph.set_entry_point(\"first\")\n",
    "graph.add_edge(\"first\", \"second\")\n",
    "graph.add_edge(\"second\", \"third\")\n",
    "graph.set_finish_point(\"third\")\n",
    "\n",
    "app = graph.compile()"
   ]
  },
  {
   "cell_type": "code",
   "execution_count": 9,
   "id": "18ce217b",
   "metadata": {},
   "outputs": [
    {
     "data": {
      "text/plain": [
       "'John welcome to the system! You are 30 years old. Your skills are: Python, AI, Machine Learning.'"
      ]
     },
     "execution_count": 9,
     "metadata": {},
     "output_type": "execute_result"
    }
   ],
   "source": [
    "output  = app.invoke({\n",
    "    \"name\": \"John\",\n",
    "    \"age\": 30,\n",
    "    \"skills\": [\"Python\", \"AI\", \"Machine Learning\"]\n",
    "})\n",
    "\n",
    "output[\"result\"]"
   ]
  }
 ],
 "metadata": {
  "kernelspec": {
   "display_name": "venv",
   "language": "python",
   "name": "python3"
  },
  "language_info": {
   "codemirror_mode": {
    "name": "ipython",
    "version": 3
   },
   "file_extension": ".py",
   "mimetype": "text/x-python",
   "name": "python",
   "nbconvert_exporter": "python",
   "pygments_lexer": "ipython3",
   "version": "3.13.2"
  }
 },
 "nbformat": 4,
 "nbformat_minor": 5
}
