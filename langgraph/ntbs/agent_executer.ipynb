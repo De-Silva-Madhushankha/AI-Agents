{
 "cells": [
  {
   "cell_type": "code",
   "execution_count": 1,
   "id": "534704e1",
   "metadata": {
    "vscode": {
     "languageId": "plaintext"
    }
   },
   "outputs": [
    {
     "name": "stderr",
     "output_type": "stream",
     "text": [
      "\n",
      "[notice] A new release of pip is available: 24.3.1 -> 25.2\n",
      "[notice] To update, run: python.exe -m pip install --upgrade pip\n"
     ]
    }
   ],
   "source": [
    "!pip install --quiet -U langchain google-generativeai langchain-google-genai tavily-python langchain_community langchain-tavily"
   ]
  },
  {
   "cell_type": "code",
   "execution_count": null,
   "id": "af1dd6e6-cb22-42d0-b9a3-0cc9a40df1b3",
   "metadata": {},
   "outputs": [],
   "source": [
    "import os\n",
    "import getpass\n"
   ]
  },
  {
   "cell_type": "code",
   "execution_count": null,
   "id": "3fb83db8-4067-4751-83fd-1c7b7d7fcd43",
   "metadata": {},
   "outputs": [],
   "source": []
  },
  {
   "cell_type": "code",
   "execution_count": null,
   "id": "8c5c075a-addb-40d9-918c-bcdef7cc117e",
   "metadata": {},
   "outputs": [],
   "source": []
  },
  {
   "cell_type": "code",
   "execution_count": 7,
   "id": "331f8cd6-61d1-47cd-893a-51e5abe9d5ce",
   "metadata": {},
   "outputs": [],
   "source": [
    "from langchain.prompts import ChatPromptTemplate\n",
    "from langchain_google_genai import ChatGoogleGenerativeAI\n",
    "from langchain.agents import create_tool_calling_agent\n",
    "from langchain_tavily import TavilySearch\n",
    "\n",
    "tools = [TavilySearch(max_results=1)]\n",
    "\n",
    "prompt = ChatPromptTemplate.from_messages([\n",
    "    (\"system\", \"You are a helpful assistant that can use tools to answer questions.\"),\n",
    "    (\"human\", \"{input}\\n\\n{agent_scratchpad}\")\n",
    "])\n",
    "\n",
    "llm = ChatGoogleGenerativeAI(\n",
    "    model=\"gemini-1.5-pro\",\n",
    "    google_api_key=os.environ[\"GOOGLE_API_KEY\"],\n",
    "    max_output_tokens=1024\n",
    ")\n",
    "\n",
    "agent_runnable = create_tool_calling_agent(llm, tools, prompt)\n"
   ]
  },
  {
   "cell_type": "code",
   "execution_count": 16,
   "id": "b2703008-786e-427a-8af0-0b17ce244168",
   "metadata": {},
   "outputs": [
    {
     "name": "stdout",
     "output_type": "stream",
     "text": [
      "\n",
      "\n",
      "\u001b[1m> Entering new AgentExecutor chain...\u001b[0m\n",
      "\u001b[32;1m\u001b[1;3m\n",
      "Invoking: `tavily_search` with `{'search_depth': 'advanced', 'query': 'intern openings in Sri Lanka for Software Engineering'}`\n",
      "\n",
      "\n",
      "\u001b[0m\u001b[36;1m\u001b[1;3m{'query': 'intern openings in Sri Lanka for Software Engineering', 'follow_up_questions': None, 'answer': None, 'images': [], 'results': [{'url': 'https://lk.linkedin.com/jobs/software-engineer-intern-jobs', 'title': '10 Software Engineer Intern jobs in Sri Lanka (1 new) - LinkedIn', 'content': '10 Software Engineer Intern Jobs in Sri Lanka (1 new). Full Stack Web Developer – Intern. Full Stack Web Developer – Intern. DoMedia. Colombo, Western Province,', 'score': 0.86767644, 'raw_content': None}], 'response_time': 2.38}\u001b[0m\u001b[32;1m\u001b[1;3mHere are some intern openings in Sri Lanka for Software Engineering:\n",
      "\n",
      "* **10 Software Engineer Intern jobs in Sri Lanka (1 new) - LinkedIn:** https://lk.linkedin.com/jobs/software-engineer-intern-jobs  This LinkedIn page lists 10 Software Engineer Intern jobs, with one new opening. It includes a position for Full Stack Web Developer Intern at DoMedia in Colombo.\u001b[0m\n",
      "\n",
      "\u001b[1m> Finished chain.\u001b[0m\n",
      "{'input': 'Available intern openings in Sri Lanka for Software Engineering?', 'output': 'Here are some intern openings in Sri Lanka for Software Engineering:\\n\\n* **10 Software Engineer Intern jobs in Sri Lanka (1 new) - LinkedIn:** https://lk.linkedin.com/jobs/software-engineer-intern-jobs  This LinkedIn page lists 10 Software Engineer Intern jobs, with one new opening. It includes a position for Full Stack Web Developer Intern at DoMedia in Colombo.'}\n"
     ]
    }
   ],
   "source": [
    "from langchain.agents import AgentExecutor\n",
    "\n",
    "# Wrap the agent into an executor\n",
    "agent_executor = AgentExecutor(agent=agent_runnable, tools=tools, verbose=True)\n",
    "\n",
    "# Now you can call it normally\n",
    "result = agent_executor.invoke({\"input\": \"Available intern openings in Sri Lanka for Software Engineering?\"})\n",
    "print(result)"
   ]
  }
 ],
 "metadata": {
  "kernelspec": {
   "display_name": "Python 3 (ipykernel)",
   "language": "python",
   "name": "python3"
  },
  "language_info": {
   "codemirror_mode": {
    "name": "ipython",
    "version": 3
   },
   "file_extension": ".py",
   "mimetype": "text/x-python",
   "name": "python",
   "nbconvert_exporter": "python",
   "pygments_lexer": "ipython3",
   "version": "3.13.2"
  }
 },
 "nbformat": 4,
 "nbformat_minor": 5
}
